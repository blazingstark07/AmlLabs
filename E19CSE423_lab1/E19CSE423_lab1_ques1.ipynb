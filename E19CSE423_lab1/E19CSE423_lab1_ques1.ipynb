{
 "cells": [
  {
   "cell_type": "code",
   "execution_count": 1,
   "source": [
    "##importing libraries\r\n",
    "import pandas as pd\r\n",
    "import numpy as np\r\n",
    "import seaborn as sns\r\n",
    "from sklearn.impute import SimpleImputer\r\n",
    "from sklearn.preprocessing import OneHotEncoder\r\n",
    "from sklearn.model_selection import train_test_split\r\n",
    "from sklearn.preprocessing import MinMaxScaler \r\n"
   ],
   "outputs": [],
   "metadata": {}
  },
  {
   "cell_type": "code",
   "execution_count": 2,
   "source": [
    "##reading file\r\n",
    "data = pd.read_csv(\"question1.csv\")\r\n",
    "# print(data)"
   ],
   "outputs": [],
   "metadata": {}
  },
  {
   "cell_type": "code",
   "execution_count": 3,
   "source": [
    "## simple imputer for missing values\r\n",
    "imp_data = SimpleImputer(missing_values=np.nan, strategy=\"median\")\r\n",
    "data[\"Income\"]=imp_data.fit_transform(data[[\"Income\"]])\r\n",
    "data[\"Age\"]=imp_data.fit_transform(data[[\"Age\"]])\r\n",
    "print (data)"
   ],
   "outputs": [
    {
     "output_type": "stream",
     "name": "stdout",
     "text": [
      "   Region   Age   Income OnlineShopkeeper\n",
      "0   India  49.0  86400.0               No\n",
      "1  Brazil  32.0  57600.0              Yes\n",
      "2     USA  35.0  64800.0               No\n",
      "3  Brazil  43.0  73200.0               No\n",
      "4     USA  45.0  73200.0              Yes\n",
      "5   India  40.0  69600.0              Yes\n",
      "6  Brazil  43.0  62400.0               No\n",
      "7   India  53.0  94800.0              Yes\n",
      "8     USA  55.0  99600.0               No\n",
      "9   India  42.0  80400.0              Yes\n"
     ]
    }
   ],
   "metadata": {}
  },
  {
   "cell_type": "code",
   "execution_count": 4,
   "source": [
    "##barplot\r\n",
    "sns.barplot(data=data,x=\"Income\",y=\"Age\",orient=\"h\")"
   ],
   "outputs": [
    {
     "output_type": "execute_result",
     "data": {
      "text/plain": [
       "<AxesSubplot:xlabel='Income', ylabel='Age'>"
      ]
     },
     "metadata": {},
     "execution_count": 4
    },
    {
     "output_type": "display_data",
     "data": {
      "image/png": "[encoded data removed]",
      "text/plain": [
       "<Figure size 432x288 with 1 Axes>"
      ]
     },
     "metadata": {
      "needs_background": "light"
     }
    }
   ],
   "metadata": {}
  },
  {
   "cell_type": "code",
   "execution_count": 9,
   "source": [
    "##heatmap of income\r\n",
    "sns.heatmap(data.corr(),annot=True)"
   ],
   "outputs": [
    {
     "output_type": "execute_result",
     "data": {
      "text/plain": [
       "<AxesSubplot:>"
      ]
     },
     "metadata": {},
     "execution_count": 9
    },
    {
     "output_type": "display_data",
     "data": {
      "image/png": "[encoded data removed]",
      "text/plain": [
       "<Figure size 432x288 with 2 Axes>"
      ]
     },
     "metadata": {
      "needs_background": "light"
     }
    }
   ],
   "metadata": {}
  },
  {
   "cell_type": "code",
   "execution_count": 6,
   "source": [
    "#handling categorical data of region using one hot encoder\r\n",
    "\r\n",
    "encoded = OneHotEncoder().fit_transform(data[[\"Region\"]]).toarray()\r\n",
    "print(encoded)"
   ],
   "outputs": [
    {
     "output_type": "stream",
     "name": "stdout",
     "text": [
      "[[0. 1. 0.]\n",
      " [1. 0. 0.]\n",
      " [0. 0. 1.]\n",
      " [1. 0. 0.]\n",
      " [0. 0. 1.]\n",
      " [0. 1. 0.]\n",
      " [1. 0. 0.]\n",
      " [0. 1. 0.]\n",
      " [0. 0. 1.]\n",
      " [0. 1. 0.]]\n"
     ]
    }
   ],
   "metadata": {}
  },
  {
   "cell_type": "code",
   "execution_count": 11,
   "source": [
    "## separating test and train set\r\n",
    "X = data.drop(columns=\"OnlineShopkeeper\")\r\n",
    "Y = data[\"OnlineShopkeeper\"]\r\n",
    "\r\n",
    "X_Train, X_Test, Y_Train, Y_Test = train_test_split(X,Y,test_size=0.30)"
   ],
   "outputs": [],
   "metadata": {}
  },
  {
   "cell_type": "code",
   "execution_count": 8,
   "source": [
    "## income and age features scaled\r\n",
    "\r\n",
    "features = data.iloc[:,1:3].values\r\n",
    "\r\n",
    "print (\"Features before scaling\")\r\n",
    "print(features)\r\n",
    "\r\n",
    "mms = MinMaxScaler(feature_range=(0,1))\r\n",
    "features_scaled = mms.fit_transform(features)\r\n",
    "\r\n",
    "print (\"Features after scaling\")\r\n",
    "print(features_scaled)"
   ],
   "outputs": [
    {
     "output_type": "stream",
     "name": "stdout",
     "text": [
      "Features before scaling\n",
      "[[4.90e+01 8.64e+04]\n",
      " [3.20e+01 5.76e+04]\n",
      " [3.50e+01 6.48e+04]\n",
      " [4.30e+01 7.32e+04]\n",
      " [4.50e+01 7.32e+04]\n",
      " [4.00e+01 6.96e+04]\n",
      " [4.30e+01 6.24e+04]\n",
      " [5.30e+01 9.48e+04]\n",
      " [5.50e+01 9.96e+04]\n",
      " [4.20e+01 8.04e+04]]\n",
      "Features after scaling\n",
      "[[0.73913043 0.68571429]\n",
      " [0.         0.        ]\n",
      " [0.13043478 0.17142857]\n",
      " [0.47826087 0.37142857]\n",
      " [0.56521739 0.37142857]\n",
      " [0.34782609 0.28571429]\n",
      " [0.47826087 0.11428571]\n",
      " [0.91304348 0.88571429]\n",
      " [1.         1.        ]\n",
      " [0.43478261 0.54285714]]\n"
     ]
    }
   ],
   "metadata": {}
  }
 ],
 "metadata": {
  "orig_nbformat": 4,
  "language_info": {
   "name": "python",
   "version": "3.9.1",
   "mimetype": "text/x-python",
   "codemirror_mode": {
    "name": "ipython",
    "version": 3
   },
   "pygments_lexer": "ipython3",
   "nbconvert_exporter": "python",
   "file_extension": ".py"
  },
  "kernelspec": {
   "name": "python3",
   "display_name": "Python 3.9.1 64-bit"
  },
  "interpreter": {
   "hash": "fb918db4a56ab7c212c5f800ca080242b11572f341680387355c17bf800603b4"
  }
 },
 "nbformat": 4,
 "nbformat_minor": 2
}